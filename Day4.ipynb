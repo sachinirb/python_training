{
  "nbformat": 4,
  "nbformat_minor": 0,
  "metadata": {
    "colab": {
      "name": "Day4.ipynb",
      "provenance": []
    },
    "kernelspec": {
      "name": "python3",
      "display_name": "Python 3"
    }
  },
  "cells": [
    {
      "cell_type": "code",
      "metadata": {
        "colab": {
          "base_uri": "https://localhost:8080/"
        },
        "id": "BBMSo9nUdV-i",
        "outputId": "dca7c07b-7302-42e0-ed21-cf41fd7c5cf5"
      },
      "source": [
        "sentence = \"sachini.bamunusinghe@lseg.com\"\n",
        "s = sentence.find('@')\n",
        "print(s)"
      ],
      "execution_count": null,
      "outputs": [
        {
          "output_type": "stream",
          "text": [
            "20\n"
          ],
          "name": "stdout"
        }
      ]
    },
    {
      "cell_type": "code",
      "metadata": {
        "id": "khLnOL8De8aC"
      },
      "source": [
        "import re"
      ],
      "execution_count": null,
      "outputs": []
    },
    {
      "cell_type": "code",
      "metadata": {
        "id": "RjToYbnwfkxb"
      },
      "source": [
        "sentence = 'My name is sachini. My mobile number is 0714876454 and my home number is 0452259907. We are living in year 2020 and today is 27th April.'"
      ],
      "execution_count": null,
      "outputs": []
    },
    {
      "cell_type": "code",
      "metadata": {
        "colab": {
          "base_uri": "https://localhost:8080/"
        },
        "id": "DAzWjjojgIz-",
        "outputId": "6afe8d07-bae7-4656-c80a-1403b569afec"
      },
      "source": [
        "help(re.search)"
      ],
      "execution_count": null,
      "outputs": [
        {
          "output_type": "stream",
          "text": [
            "Help on function search in module re:\n",
            "\n",
            "search(pattern, string, flags=0)\n",
            "    Scan through string looking for a match to the pattern, returning\n",
            "    a match object, or None if no match was found.\n",
            "\n"
          ],
          "name": "stdout"
        }
      ]
    },
    {
      "cell_type": "markdown",
      "metadata": {
        "id": "XYXzTOjUhNc0"
      },
      "source": [
        "## Character class"
      ]
    },
    {
      "cell_type": "code",
      "metadata": {
        "colab": {
          "base_uri": "https://localhost:8080/"
        },
        "id": "qYJ6tmvegl7g",
        "outputId": "5970cb4d-ddac-4696-b5ed-fdc3690f8aea"
      },
      "source": [
        "phone_number = re.search(r'\\d\\d\\d\\d\\d\\d\\d\\d\\d\\d', sentence)\n",
        "\n",
        "print(phone_number)"
      ],
      "execution_count": null,
      "outputs": [
        {
          "output_type": "stream",
          "text": [
            "<_sre.SRE_Match object; span=(40, 50), match='0714876454'>\n"
          ],
          "name": "stdout"
        }
      ]
    },
    {
      "cell_type": "code",
      "metadata": {
        "colab": {
          "base_uri": "https://localhost:8080/"
        },
        "id": "213d4Tc2h4aV",
        "outputId": "9141b9b2-c7b5-4869-822c-6adc72c9a32d"
      },
      "source": [
        "print(phone_number.group())"
      ],
      "execution_count": null,
      "outputs": [
        {
          "output_type": "stream",
          "text": [
            "0714876454\n"
          ],
          "name": "stdout"
        }
      ]
    },
    {
      "cell_type": "code",
      "metadata": {
        "colab": {
          "base_uri": "https://localhost:8080/"
        },
        "id": "fxeHEh1NiH5x",
        "outputId": "597efb95-8263-49bb-9208-ef25c4cac1ec"
      },
      "source": [
        "phone_regex = re.compile(r'\\d\\d\\d\\d\\d\\d\\d\\d\\d\\d')\n",
        "phone_number2 = phone_regex.search(sentence)\n",
        "\n",
        "print(phone_number2.group())"
      ],
      "execution_count": null,
      "outputs": [
        {
          "output_type": "stream",
          "text": [
            "0714876454\n"
          ],
          "name": "stdout"
        }
      ]
    },
    {
      "cell_type": "code",
      "metadata": {
        "colab": {
          "base_uri": "https://localhost:8080/"
        },
        "id": "AvqRKXNVil3c",
        "outputId": "2f7a2e39-eaa4-4f7a-d978-0692506d8c9b"
      },
      "source": [
        "phone_number3 = phone_regex.search('Hi my name is Sachini. I work in BSL ')\n",
        "\n",
        "print(phone_number3)"
      ],
      "execution_count": null,
      "outputs": [
        {
          "output_type": "stream",
          "text": [
            "None\n"
          ],
          "name": "stdout"
        }
      ]
    },
    {
      "cell_type": "code",
      "metadata": {
        "id": "kHYZ7zOejqVv"
      },
      "source": [
        "if phone_number3:\n",
        "  print(phone_number3.group())"
      ],
      "execution_count": null,
      "outputs": []
    },
    {
      "cell_type": "code",
      "metadata": {
        "id": "eIFgROzqkDw6"
      },
      "source": [
        "sentence = 'My name is sachini. My mobile number is 0714876454 and my home number is 0452259907. We are living in year 2020 and today is 27th April.'"
      ],
      "execution_count": null,
      "outputs": []
    },
    {
      "cell_type": "code",
      "metadata": {
        "colab": {
          "base_uri": "https://localhost:8080/"
        },
        "id": "vMAJTMjakXQT",
        "outputId": "e88ce044-4839-495b-9963-209c48b1e25e"
      },
      "source": [
        "year_regex = re.compile(r'\\s\\d\\d\\d\\d\\s')\n",
        "year = year_regex.search(sentence)\n",
        "\n",
        "if year:\n",
        "  print(year.group())"
      ],
      "execution_count": null,
      "outputs": [
        {
          "output_type": "stream",
          "text": [
            " 2020 \n"
          ],
          "name": "stdout"
        }
      ]
    },
    {
      "cell_type": "code",
      "metadata": {
        "colab": {
          "base_uri": "https://localhost:8080/"
        },
        "id": "MJg6ViAxkt53",
        "outputId": "10f5f40b-93ac-4d9d-87d1-89e82848606c"
      },
      "source": [
        "print(len(year.group()))"
      ],
      "execution_count": null,
      "outputs": [
        {
          "output_type": "stream",
          "text": [
            "6\n"
          ],
          "name": "stdout"
        }
      ]
    },
    {
      "cell_type": "code",
      "metadata": {
        "colab": {
          "base_uri": "https://localhost:8080/"
        },
        "id": "YSR8LdyBlQ_e",
        "outputId": "659671fe-6d64-4cdd-946d-d51c29777c07"
      },
      "source": [
        "year_regex = re.compile(r'\\s(\\d\\d\\d\\d)\\s')\n",
        "year = year_regex.search(sentence)\n",
        "\n",
        "if year:\n",
        "  print(year.group(0))\n",
        "  print(year.group(1))\n",
        "  print(len(year.group(0)))\n",
        "  print(len(year.group(1)))"
      ],
      "execution_count": null,
      "outputs": [
        {
          "output_type": "stream",
          "text": [
            " 2020 \n",
            "2020\n",
            "6\n",
            "4\n"
          ],
          "name": "stdout"
        }
      ]
    },
    {
      "cell_type": "code",
      "metadata": {
        "id": "3mXPsMlQluj2"
      },
      "source": [
        "sentence = 'My name is sachini. My mobile number is 0714876454 and my home number is 0112259907. We are living in year 2020 and today is 27th April. 0112347654 0779084563 077'\n",
        "\n",
        "phone_regex = re.compile(r'\\d\\d\\d\\d\\d\\d\\d\\d\\d\\d')"
      ],
      "execution_count": null,
      "outputs": []
    },
    {
      "cell_type": "code",
      "metadata": {
        "colab": {
          "base_uri": "https://localhost:8080/"
        },
        "id": "wLNfkr78msYD",
        "outputId": "50cb8474-1712-40b0-98b1-d43b269f1468"
      },
      "source": [
        "mo = phone_regex.search(sentence)\n",
        "mo_all = phone_regex.findall(sentence)\n",
        "\n",
        "if mo:\n",
        "  print(mo.group())\n",
        "  print(mo_all)"
      ],
      "execution_count": null,
      "outputs": [
        {
          "output_type": "stream",
          "text": [
            "0714876454\n",
            "['0714876454', '0112259907', '0112347654', '0779084563']\n"
          ],
          "name": "stdout"
        }
      ]
    },
    {
      "cell_type": "code",
      "metadata": {
        "colab": {
          "base_uri": "https://localhost:8080/"
        },
        "id": "QfDVk4PmnPjR",
        "outputId": "a84f023d-2cea-4338-a234-0103fe80938f"
      },
      "source": [
        "phone_reg = re.compile(r'(077|011)\\d\\d\\d\\d\\d\\d\\d')\n",
        "mo = phone_reg.search(sentence)\n",
        "mo_all = phone_reg.findall(sentence)\n",
        "\n",
        "if mo:\n",
        "  print(mo.group(1))\n",
        "  print(mo_all)"
      ],
      "execution_count": null,
      "outputs": [
        {
          "output_type": "stream",
          "text": [
            "011\n",
            "['011', '011', '077']\n"
          ],
          "name": "stdout"
        }
      ]
    },
    {
      "cell_type": "code",
      "metadata": {
        "colab": {
          "base_uri": "https://localhost:8080/"
        },
        "id": "mIHl38l1oiWV",
        "outputId": "5c053185-0fa4-400e-866c-942f4bbec897"
      },
      "source": [
        "phone_reg = re.compile(r'((077|011)\\d\\d\\d\\d\\d\\d\\d)')\n",
        "mo = phone_reg.search(sentence)\n",
        "mo_all = phone_reg.findall(sentence)\n",
        "\n",
        "if mo:\n",
        "  print(mo.group(1))\n",
        "  print(mo_all)"
      ],
      "execution_count": null,
      "outputs": [
        {
          "output_type": "stream",
          "text": [
            "0112259907\n",
            "[('0112259907', '011'), ('0112347654', '011'), ('0779084563', '077')]\n"
          ],
          "name": "stdout"
        }
      ]
    },
    {
      "cell_type": "code",
      "metadata": {
        "id": "4vFo6wAlpAmc"
      },
      "source": [
        "bat_s = 'Batman is using his Batmobile as his land vehicle and uses Batcoptor as his plane'\n",
        "\n",
        "bat_reg = re.compile(r'Batman|Batmobile|Batcoptor')\n",
        "mo_all = bat_reg.findall(bat_s)"
      ],
      "execution_count": null,
      "outputs": []
    },
    {
      "cell_type": "code",
      "metadata": {
        "colab": {
          "base_uri": "https://localhost:8080/"
        },
        "id": "vxEr1xW-plqh",
        "outputId": "dbc5baee-d73a-4d27-f694-8ba9ac13f1d4"
      },
      "source": [
        "if mo_all:\n",
        "  print(mo_all)"
      ],
      "execution_count": null,
      "outputs": [
        {
          "output_type": "stream",
          "text": [
            "['Batman', 'Batmobile', 'Batcoptor']\n"
          ],
          "name": "stdout"
        }
      ]
    },
    {
      "cell_type": "code",
      "metadata": {
        "colab": {
          "base_uri": "https://localhost:8080/"
        },
        "id": "FdZSC-zVpqp6",
        "outputId": "c787c038-bc8d-428d-afdc-97b0797d6738"
      },
      "source": [
        "bat_reg = re.compile(r'Bat(man|mobile|coptor)')\n",
        "mo_all = bat_reg.findall(bat_s)\n",
        "\n",
        "if mo_all:\n",
        "  print(mo_all)"
      ],
      "execution_count": null,
      "outputs": [
        {
          "output_type": "stream",
          "text": [
            "['man', 'mobile', 'coptor']\n"
          ],
          "name": "stdout"
        }
      ]
    },
    {
      "cell_type": "code",
      "metadata": {
        "colab": {
          "base_uri": "https://localhost:8080/"
        },
        "id": "3arGd_-wp_yU",
        "outputId": "e880ce48-14dc-425d-f92a-413d3a724e18"
      },
      "source": [
        "bat_reg = re.compile(r'(Bat(man|mobile|coptor))')\n",
        "mo_all = bat_reg.findall(bat_s)\n",
        "\n",
        "if mo_all:\n",
        "  print(mo_all)"
      ],
      "execution_count": null,
      "outputs": [
        {
          "output_type": "stream",
          "text": [
            "[('Batman', 'man'), ('Batmobile', 'mobile'), ('Batcoptor', 'coptor')]\n"
          ],
          "name": "stdout"
        }
      ]
    },
    {
      "cell_type": "code",
      "metadata": {
        "id": "PyyTTq_wqLtp"
      },
      "source": [
        "## Character classes - Special sequences\n",
        "# \\d numeric --> [0-9]\n",
        "# \\D not numeric\n",
        "# \\s space or tab\n",
        "# \\S not space or tab\n",
        "# \\w alphanumeric characters --> [a-zA-Z0-9]\n",
        "#\\W not alpha numeric characters\n",
        "# . any charcter\n",
        "\n",
        "[0-5] \n",
        "[0-5.#*]\n"
      ],
      "execution_count": null,
      "outputs": []
    },
    {
      "cell_type": "markdown",
      "metadata": {
        "id": "3LUB4THjrw_4"
      },
      "source": [
        "## Quantifiers"
      ]
    },
    {
      "cell_type": "code",
      "metadata": {
        "colab": {
          "base_uri": "https://localhost:8080/"
        },
        "id": "udTaV7uhsDlG",
        "outputId": "08e4af43-2a9e-4e3a-c002-83dbff61040d"
      },
      "source": [
        "phone_s = ' +94773856294 +94112761499'\n",
        "\n",
        "phone_reg = re.compile(r'((\\+94)(\\d{9}))')\n",
        "mo_all = phone_reg.findall(phone_s)\n",
        "mo = phone_reg.search(phone_s)\n",
        "\n",
        "if mo_all:\n",
        "  print(mo_all)\n",
        "  print(mo.group(1))\n",
        "  print(mo.group(2))\n",
        "  print(mo.group(3))"
      ],
      "execution_count": null,
      "outputs": [
        {
          "output_type": "stream",
          "text": [
            "[('+94773856294', '+94', '773856294'), ('+94112761499', '+94', '112761499')]\n",
            "+94773856294\n",
            "+94\n",
            "773856294\n"
          ],
          "name": "stdout"
        }
      ]
    },
    {
      "cell_type": "code",
      "metadata": {
        "colab": {
          "base_uri": "https://localhost:8080/"
        },
        "id": "t5q2jhF7tDpi",
        "outputId": "ec7ffa63-129f-4f31-99ba-a550decb8546"
      },
      "source": [
        "numbers = 'There are numbers 234 22444 223445 233 2234543'\n",
        "\n",
        "number_reg = re.compile(r'\\s(\\d{3})\\s')\n",
        "\n",
        "mo_all = number_reg.findall(numbers)\n",
        "\n",
        "if mo_all:\n",
        "  print(mo_all)"
      ],
      "execution_count": null,
      "outputs": [
        {
          "output_type": "stream",
          "text": [
            "['234', '233']\n"
          ],
          "name": "stdout"
        }
      ]
    },
    {
      "cell_type": "code",
      "metadata": {
        "colab": {
          "base_uri": "https://localhost:8080/"
        },
        "id": "SsfdFectukBU",
        "outputId": "d269defa-37c5-4cad-9197-6bbbfd71ac7d"
      },
      "source": [
        "number_reg = re.compile(r'(\\d{3,6})\\s')\n",
        "\n",
        "mo_all = number_reg.findall(numbers)\n",
        "\n",
        "if mo_all:\n",
        "  print(mo_all)"
      ],
      "execution_count": null,
      "outputs": [
        {
          "output_type": "stream",
          "text": [
            "['234', '22444', '223445', '233']\n"
          ],
          "name": "stdout"
        }
      ]
    },
    {
      "cell_type": "code",
      "metadata": {
        "id": "5Oe9Ci5-vF8z"
      },
      "source": [
        "numbers = 'There are numbers  1 2 22 234 223445 12345 asdfasdf 233 2234543 sdfasdfsa 12345 '\n",
        "\n",
        "number_reg = re.compile(r'[0-9]{1,7}\\s')\n",
        "number2_reg = re.compile(r'[345]{5}')\n",
        "alphanum_reg = re.compile(r'\\w{3,10}')\n",
        "letter_reg = re.compile(r'[a-f]{5}')"
      ],
      "execution_count": null,
      "outputs": []
    },
    {
      "cell_type": "code",
      "metadata": {
        "colab": {
          "base_uri": "https://localhost:8080/"
        },
        "id": "2PGTmENOxRxs",
        "outputId": "47544ecd-e4e9-4090-cfb6-204f89700096"
      },
      "source": [
        "mo_all = number_reg.findall(numbers)\n",
        "mo_all2 = number2_reg.findall(numbers)\n",
        "mo_all3 = alphanum_reg.findall(numbers)\n",
        "mo_all4 = letter_reg.findall(numbers)\n",
        "if mo_all:\n",
        "  print(mo_all)\n",
        "  print(mo_all2)\n",
        "  print(mo_all3)\n",
        "  print(mo_all4)"
      ],
      "execution_count": null,
      "outputs": [
        {
          "output_type": "stream",
          "text": [
            "['1 ', '2 ', '22 ', '234 ', '223445 ', '12345 ', '233 ', '2234543 ', '12345 ']\n",
            "['34543']\n",
            "['There', 'are', 'numbers', '234', '223445', '12345', 'asdfasdf', '233', '2234543', 'sdfasdfsa', '12345']\n",
            "[]\n"
          ],
          "name": "stdout"
        }
      ]
    },
    {
      "cell_type": "code",
      "metadata": {
        "id": "nh32nXX_xYWZ"
      },
      "source": [
        "# ? zero or one occurance\n",
        "# * zero or more\n",
        "# + one or more\n",
        "\n",
        "#.* one or more of any character"
      ],
      "execution_count": null,
      "outputs": []
    },
    {
      "cell_type": "code",
      "metadata": {
        "id": "939JynjLzpUy"
      },
      "source": [
        "s = 'My name is sachini my email addresses are Sachini.bamunusinghe@lseg.com and my personal email is sachinirb@gmail.com vimukthini.jayalath@lseg.com eranga.desilva@lseg.com'"
      ],
      "execution_count": null,
      "outputs": []
    },
    {
      "cell_type": "code",
      "metadata": {
        "colab": {
          "base_uri": "https://localhost:8080/"
        },
        "id": "Nm7pEZMrzq42",
        "outputId": "d338a166-c1d7-465c-e190-f12ed7ba3c23"
      },
      "source": [
        "email_reg = re.compile(r'[a-z._]+@[a-z._]+')\n",
        "mo_all = email_reg.findall(s)\n",
        "\n",
        "if mo_all:\n",
        "  print(mo_all)"
      ],
      "execution_count": null,
      "outputs": [
        {
          "output_type": "stream",
          "text": [
            "['sachini.bamunusinghe@lseg.com', 'sachinirb@gmail.com', 'vimukthini.jayalath@lseg.com', 'eranga.desilva@lseg.com']\n"
          ],
          "name": "stdout"
        }
      ]
    },
    {
      "cell_type": "markdown",
      "metadata": {
        "id": "5vL5I2ku1KSm"
      },
      "source": [
        ""
      ]
    },
    {
      "cell_type": "code",
      "metadata": {
        "colab": {
          "base_uri": "https://localhost:8080/"
        },
        "id": "T-Sn8_5J0hsc",
        "outputId": "569eb5f3-49b7-4581-b404-827d5b1f447f"
      },
      "source": [
        "my_reg_string = '''\n",
        "[a-z._]+      # This will capture the email user name\n",
        "@             # This is the separator for hte email username and the email domain\n",
        "[a-z._]+      # This will capture the email domain\n",
        "'''\n",
        "\n",
        "email_reg = re.compile(my_reg_string, flags=re.VERBOSE | re.IGNORECASE) # [a-z] this is what I have in regex but i need  [a-zA-Z] --> ignorecase grep -i\n",
        "mo = email_reg.search(s)\n",
        "mo_all = email_reg.findall(s)\n",
        "\n",
        "if mo_all:\n",
        "    print(mo_all)"
      ],
      "execution_count": null,
      "outputs": [
        {
          "output_type": "stream",
          "text": [
            "['Sachini.bamunusinghe@lseg.com', 'sachinirb@gmail.com', 'vimukthini.jayalath@lseg.com', 'eranga.desilva@lseg.com']\n"
          ],
          "name": "stdout"
        }
      ]
    },
    {
      "cell_type": "code",
      "metadata": {
        "colab": {
          "base_uri": "https://localhost:8080/"
        },
        "id": "NKq9bOVG0pSs",
        "outputId": "6bf06b02-7de8-4e57-c870-f111f660934a"
      },
      "source": [
        ""
      ],
      "execution_count": null,
      "outputs": [
        {
          "output_type": "stream",
          "text": [
            "/bin/bash: ignorecase: command not found\n"
          ],
          "name": "stdout"
        }
      ]
    },
    {
      "cell_type": "code",
      "metadata": {
        "id": "WrkQWXxF0v8V"
      },
      "source": [
        "my = "
      ],
      "execution_count": null,
      "outputs": []
    }
  ]
}